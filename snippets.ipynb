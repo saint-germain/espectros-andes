{
 "cells": [
  {
   "cell_type": "code",
   "execution_count": null,
   "metadata": {
    "collapsed": true
   },
   "outputs": [],
   "source": [
    "from scipy.optimize import curve_fit\n",
    "\n"
   ]
  },
  {
   "cell_type": "code",
   "execution_count": null,
   "metadata": {
    "collapsed": true
   },
   "outputs": [],
   "source": [
    "l=A[:,0]\n",
    "x=A[:,1]\n",
    "lin=4430\n",
    "lfi=6200\n",
    "x=x[l<lfi]\n",
    "l=l[l<lfi]\n",
    "x=x[l>lin]\n",
    "l=l[l>lin]\n",
    "x=np.concatenate((x[l<4820],x[l>5050]))\n",
    "l=np.concatenate((l[l<4820],l[l>5050]))"
   ]
  },
  {
   "cell_type": "code",
   "execution_count": null,
   "metadata": {
    "collapsed": true
   },
   "outputs": [],
   "source": [
    "plt.figure(figsize=(15,4))\n",
    "plt.plot(l,x,c='r')\n",
    "prob=1/1000.\n",
    "lottery=np.random.choice([0, 1], size=(x.size,), p=[1-prob, prob])\n",
    "llot=lottery.astype(bool)\n",
    "plt.figure(figsize=(15,4))\n",
    "plt.scatter(l[llot],x[llot])"
   ]
  },
  {
   "cell_type": "code",
   "execution_count": null,
   "metadata": {
    "collapsed": true
   },
   "outputs": [],
   "source": [
    "lottery.sum()/(1.*x.size)"
   ]
  },
  {
   "cell_type": "code",
   "execution_count": null,
   "metadata": {
    "collapsed": true
   },
   "outputs": [],
   "source": [
    "miter=1000\n",
    "prob=1/1000.\n",
    "ptemp=np.zeros(miter)\n",
    "pA=np.zeros(miter)\n",
    "for i in range(miter):\n",
    "    lottery=np.random.choice([0, 1], size=(x.size,), p=[1-prob, prob])\n",
    "    llot=lottery.astype(bool)\n",
    "    par,pconv = curve_fit(bbody, l[llot], x[llot],p0=[10000.,1.])\n",
    "    ptemp[i]=par[0]\n",
    "    pA[i]=par[1]"
   ]
  },
  {
   "cell_type": "code",
   "execution_count": null,
   "metadata": {
    "collapsed": true
   },
   "outputs": [],
   "source": [
    "miter=1000\n",
    "prob=1/1000.\n",
    "ptemp=np.zeros(miter)\n",
    "pA=np.zeros(miter)\n",
    "for i in range(miter):\n",
    "    lottery=np.random.choice([0, 1], size=(x.size,), p=[1-prob, prob])\n",
    "    llot=lottery.astype(bool)\n",
    "    par,pconv = curve_fit(bbody, l[llot], x[llot],p0=[10000.,1.])\n",
    "    ptemp[i]=par[0]\n",
    "    pA[i]=par[1]\n",
    "print \"Teff,RErrT,RErrA=\",ptemp.mean(),np.std(ptemp)*100/np.mean(ptemp),np.std(pA)*100/np.mean(pA)"
   ]
  }
 ],
 "metadata": {
  "kernelspec": {
   "display_name": "Python 2",
   "language": "python",
   "name": "python2"
  },
  "language_info": {
   "codemirror_mode": {
    "name": "ipython",
    "version": 2
   },
   "file_extension": ".py",
   "mimetype": "text/x-python",
   "name": "python",
   "nbconvert_exporter": "python",
   "pygments_lexer": "ipython2",
   "version": "2.7.6"
  }
 },
 "nbformat": 4,
 "nbformat_minor": 0
}
